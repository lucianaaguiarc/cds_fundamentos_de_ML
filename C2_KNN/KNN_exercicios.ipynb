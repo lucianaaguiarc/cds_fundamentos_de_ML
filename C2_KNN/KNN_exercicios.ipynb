{
 "cells": [
  {
   "attachments": {},
   "cell_type": "markdown",
   "metadata": {},
   "source": [
    "### 1.0 Import libraries"
   ]
  },
  {
   "cell_type": "code",
   "execution_count": null,
   "metadata": {},
   "outputs": [],
   "source": [
    "import pandas as pd\n",
    "from sklearn.neighbors import KNeighborsClassifier\n",
    "import numpy as np\n",
    "from sklearn import metrics as mt"
   ]
  },
  {
   "attachments": {},
   "cell_type": "markdown",
   "metadata": {},
   "source": [
    "### 1.1 Load data"
   ]
  },
  {
   "cell_type": "code",
   "execution_count": null,
   "metadata": {},
   "outputs": [],
   "source": [
    "def read_data(data):\n",
    "    df = pd.read_csv(data)\n",
    "    return df\n",
    "\n",
    "path = '../datasets/train_KNN_credit_card_score.csv'\n",
    "df = read_data(path)"
   ]
  },
  {
   "attachments": {},
   "cell_type": "markdown",
   "metadata": {},
   "source": [
    "### 2.0  Feature selection"
   ]
  },
  {
   "cell_type": "code",
   "execution_count": null,
   "metadata": {},
   "outputs": [],
   "source": [
    "df.columns"
   ]
  },
  {
   "cell_type": "code",
   "execution_count": null,
   "metadata": {},
   "outputs": [],
   "source": [
    "features = ['idade', 'saldo_atual', 'divida_atual', 'renda_anual', 'valor_em_investimentos', 'taxa_utilizacao_credito', 'num_emprestimos', \n",
    "            'num_contas_bancarias', 'num_cartoes_credito', 'dias_atraso_dt_venc',  'num_pgtos_atrasados', 'num_consultas_credito', 'taxa_juros']\n",
    "label = 'limite_adicional'\n",
    "\n",
    "x_train = df.loc[:, features]\n",
    "y_train = df.loc[ :, label].values #para transformar de série para array"
   ]
  },
  {
   "attachments": {},
   "cell_type": "markdown",
   "metadata": {},
   "source": [
    "### 3.0  Train model"
   ]
  },
  {
   "cell_type": "code",
   "execution_count": null,
   "metadata": {},
   "outputs": [],
   "source": [
    "#Define train parameters \n",
    "k = 7\n",
    "knn_classifier = KNeighborsClassifier(n_neighbors = k)\n",
    "knn_classifier.fit(x_train, y_train)"
   ]
  },
  {
   "attachments": {},
   "cell_type": "markdown",
   "metadata": {},
   "source": [
    "The .fit method is the six steps that shows how KNN algorithm works. It's on the readme file."
   ]
  },
  {
   "cell_type": "code",
   "execution_count": null,
   "metadata": {},
   "outputs": [],
   "source": [
    "#Predict target value (credit limit)\n",
    "y_pred = knn_classifier.predict(x_train)\n",
    "df_result = df.copy()\n",
    "df_result['predict_train'] = y_pred\n",
    "df_result.loc[:, ['id_cliente', 'idade', 'limite_adicional','predict_train']].head(50)"
   ]
  },
  {
   "attachments": {},
   "cell_type": "markdown",
   "metadata": {},
   "source": [
    "### 4.0  Train model"
   ]
  },
  {
   "attachments": {},
   "cell_type": "markdown",
   "metadata": {},
   "source": [
    "#### 4.1 . Retrain the algorithm with the folowing values for K :[3, 5, 7, 9, 11, 13, 15,17, 19 e 21] and record the accuracy"
   ]
  },
  {
   "cell_type": "code",
   "execution_count": 37,
   "metadata": {},
   "outputs": [],
   "source": [
    "k = [3,5,7,9,11,13,15,17,19,21]\n",
    "acc = []\n",
    "\n",
    "for i in range(len(k)):\n",
    "    knn_classifier = KNeighborsClassifier(n_neighbors = k[i])\n",
    "    knn_classifier.fit(x_train, y_train)\n",
    "    y_pred = knn_classifier.predict(x_train)\n",
    "    acc.append(mt.accuracy_score(y_train, y_pred))"
   ]
  },
  {
   "attachments": {},
   "cell_type": "markdown",
   "metadata": {},
   "source": [
    "#### 4.2 What is the main problem with using accuracy as a metric? Provide a hypothetical example where the problem occurs."
   ]
  },
  {
   "attachments": {},
   "cell_type": "markdown",
   "metadata": {},
   "source": [
    "#### 4.3 Explain with a brief text illustrating the difference between the Precision and Recall metrics and showing when one should be chosen over the other."
   ]
  },
  {
   "attachments": {},
   "cell_type": "markdown",
   "metadata": {},
   "source": [
    "#### 4.4 Write a short text explaining the 6 denominations of the confusion matrix: P, N, TP, FN, FP, and TN.\n"
   ]
  },
  {
   "attachments": {},
   "cell_type": "markdown",
   "metadata": {},
   "source": [
    "#### 4.5 In the dataset used in class 12: \"K-Nearest Neighbors - Practice\", is there any variable that violates the assumptions of K-NN? If yes or no, please explain."
   ]
  },
  {
   "attachments": {},
   "cell_type": "markdown",
   "metadata": {},
   "source": [
    "#### 4.7 Write a code snippet that automates the training of the KNN algorithm to find the best value for K in exercise 1."
   ]
  }
 ],
 "metadata": {
  "kernelspec": {
   "display_name": "Python 3",
   "language": "python",
   "name": "python3"
  },
  "language_info": {
   "codemirror_mode": {
    "name": "ipython",
    "version": 3
   },
   "file_extension": ".py",
   "mimetype": "text/x-python",
   "name": "python",
   "nbconvert_exporter": "python",
   "pygments_lexer": "ipython3",
   "version": "3.10.4"
  },
  "orig_nbformat": 4,
  "vscode": {
   "interpreter": {
    "hash": "b48ab8baa29243ab304f035f63a357f66f79502c7f334a63d96cbb35ab2463e8"
   }
  }
 },
 "nbformat": 4,
 "nbformat_minor": 2
}
