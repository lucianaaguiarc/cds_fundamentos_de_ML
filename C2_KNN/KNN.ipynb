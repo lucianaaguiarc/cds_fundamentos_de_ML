{
 "cells": [
  {
   "attachments": {},
   "cell_type": "markdown",
   "metadata": {},
   "source": [
    "### 1.0 Import libraries"
   ]
  },
  {
   "cell_type": "code",
   "execution_count": 27,
   "metadata": {},
   "outputs": [],
   "source": [
    "import pandas as pd\n",
    "from sklearn.neighbors import KNeighborsClassifier\n",
    "import numpy as np\n",
    "from sklearn import metrics as mt"
   ]
  },
  {
   "attachments": {},
   "cell_type": "markdown",
   "metadata": {},
   "source": [
    "### 1.1 Load data"
   ]
  },
  {
   "cell_type": "code",
   "execution_count": null,
   "metadata": {},
   "outputs": [],
   "source": [
    "def read_data(data):\n",
    "    df = pd.read_csv(data)\n",
    "    return df\n",
    "\n",
    "path = '../datasets/train_KNN_credit_card_score.csv'\n",
    "df = read_data(path)"
   ]
  },
  {
   "attachments": {},
   "cell_type": "markdown",
   "metadata": {},
   "source": [
    "### 2.0  Feature selection"
   ]
  },
  {
   "cell_type": "code",
   "execution_count": null,
   "metadata": {},
   "outputs": [],
   "source": [
    "df.columns"
   ]
  },
  {
   "cell_type": "code",
   "execution_count": null,
   "metadata": {},
   "outputs": [],
   "source": [
    "features = ['idade', 'saldo_atual', 'divida_atual', 'renda_anual', 'valor_em_investimentos', 'taxa_utilizacao_credito', 'num_emprestimos', \n",
    "            'num_contas_bancarias', 'num_cartoes_credito', 'dias_atraso_dt_venc',  'num_pgtos_atrasados', 'num_consultas_credito', 'taxa_juros']\n",
    "label = 'limite_adicional'\n",
    "\n",
    "x_train = df.loc[:, features]\n",
    "y_train = df.loc[ :, label]"
   ]
  },
  {
   "attachments": {},
   "cell_type": "markdown",
   "metadata": {},
   "source": [
    "### 3.0  Train model"
   ]
  },
  {
   "cell_type": "code",
   "execution_count": null,
   "metadata": {},
   "outputs": [],
   "source": [
    "#Define train parameters \n",
    "k = 7\n",
    "knn_classifier = KNeighborsClassifier(n_neighbors = k)\n",
    "knn_classifier.fit(x_train, y_train)"
   ]
  },
  {
   "attachments": {},
   "cell_type": "markdown",
   "metadata": {},
   "source": [
    "The .fit method is the six steps that shows how KNN algorithm works. It's on the readme file."
   ]
  },
  {
   "cell_type": "code",
   "execution_count": null,
   "metadata": {},
   "outputs": [],
   "source": [
    "#Predict target value (credit limit)\n",
    "y_pred = knn_classifier.predict(x_train)\n",
    "df_result = df.copy()\n",
    "df_result['predict_train'] = y_pred\n",
    "df_result.loc[:, ['id_cliente', 'idade', 'limite_adicional','predict_train']].head(50)"
   ]
  },
  {
   "attachments": {},
   "cell_type": "markdown",
   "metadata": {},
   "source": [
    "### 4.0 Performance"
   ]
  },
  {
   "cell_type": "code",
   "execution_count": 11,
   "metadata": {},
   "outputs": [
    {
     "data": {
      "text/plain": [
       "Negar       0.841579\n",
       "Conceder    0.158421\n",
       "Name: limite_adicional, dtype: float64"
      ]
     },
     "execution_count": 11,
     "metadata": {},
     "output_type": "execute_result"
    }
   ],
   "source": [
    "# Verify the class balance\n",
    "df.loc[ :, 'limite_adicional'].value_counts(normalize = True)"
   ]
  },
  {
   "attachments": {},
   "cell_type": "markdown",
   "metadata": {},
   "source": [
    "It seems tha the dataset has the 'limite_adicional' class unbalanced, so accuracy maybe not be the best metric"
   ]
  },
  {
   "cell_type": "code",
   "execution_count": 17,
   "metadata": {},
   "outputs": [],
   "source": [
    "df_result['validation'] = np.where(df_result['limite_adicional'] == df_result['predict_train'], 1, 0)"
   ]
  },
  {
   "cell_type": "code",
   "execution_count": 19,
   "metadata": {},
   "outputs": [
    {
     "data": {
      "text/html": [
       "<div>\n",
       "<style scoped>\n",
       "    .dataframe tbody tr th:only-of-type {\n",
       "        vertical-align: middle;\n",
       "    }\n",
       "\n",
       "    .dataframe tbody tr th {\n",
       "        vertical-align: top;\n",
       "    }\n",
       "\n",
       "    .dataframe thead th {\n",
       "        text-align: right;\n",
       "    }\n",
       "</style>\n",
       "<table border=\"1\" class=\"dataframe\">\n",
       "  <thead>\n",
       "    <tr style=\"text-align: right;\">\n",
       "      <th></th>\n",
       "      <th>id_cliente</th>\n",
       "      <th>idade</th>\n",
       "      <th>limite_adicional</th>\n",
       "      <th>predict_train</th>\n",
       "      <th>validation</th>\n",
       "    </tr>\n",
       "  </thead>\n",
       "  <tbody>\n",
       "    <tr>\n",
       "      <th>0</th>\n",
       "      <td>1767</td>\n",
       "      <td>21</td>\n",
       "      <td>Negar</td>\n",
       "      <td>Negar</td>\n",
       "      <td>1</td>\n",
       "    </tr>\n",
       "    <tr>\n",
       "      <th>1</th>\n",
       "      <td>11920</td>\n",
       "      <td>40</td>\n",
       "      <td>Negar</td>\n",
       "      <td>Negar</td>\n",
       "      <td>1</td>\n",
       "    </tr>\n",
       "    <tr>\n",
       "      <th>2</th>\n",
       "      <td>8910</td>\n",
       "      <td>36</td>\n",
       "      <td>Negar</td>\n",
       "      <td>Negar</td>\n",
       "      <td>1</td>\n",
       "    </tr>\n",
       "    <tr>\n",
       "      <th>3</th>\n",
       "      <td>4964</td>\n",
       "      <td>58</td>\n",
       "      <td>Negar</td>\n",
       "      <td>Negar</td>\n",
       "      <td>1</td>\n",
       "    </tr>\n",
       "    <tr>\n",
       "      <th>4</th>\n",
       "      <td>10100</td>\n",
       "      <td>35</td>\n",
       "      <td>Negar</td>\n",
       "      <td>Negar</td>\n",
       "      <td>1</td>\n",
       "    </tr>\n",
       "    <tr>\n",
       "      <th>...</th>\n",
       "      <td>...</td>\n",
       "      <td>...</td>\n",
       "      <td>...</td>\n",
       "      <td>...</td>\n",
       "      <td>...</td>\n",
       "    </tr>\n",
       "    <tr>\n",
       "      <th>9495</th>\n",
       "      <td>5155</td>\n",
       "      <td>29</td>\n",
       "      <td>Negar</td>\n",
       "      <td>Negar</td>\n",
       "      <td>1</td>\n",
       "    </tr>\n",
       "    <tr>\n",
       "      <th>9496</th>\n",
       "      <td>11977</td>\n",
       "      <td>1237</td>\n",
       "      <td>Negar</td>\n",
       "      <td>Negar</td>\n",
       "      <td>1</td>\n",
       "    </tr>\n",
       "    <tr>\n",
       "      <th>9497</th>\n",
       "      <td>9278</td>\n",
       "      <td>47</td>\n",
       "      <td>Negar</td>\n",
       "      <td>Negar</td>\n",
       "      <td>1</td>\n",
       "    </tr>\n",
       "    <tr>\n",
       "      <th>9498</th>\n",
       "      <td>2525</td>\n",
       "      <td>42</td>\n",
       "      <td>Negar</td>\n",
       "      <td>Negar</td>\n",
       "      <td>1</td>\n",
       "    </tr>\n",
       "    <tr>\n",
       "      <th>9499</th>\n",
       "      <td>9636</td>\n",
       "      <td>35</td>\n",
       "      <td>Negar</td>\n",
       "      <td>Negar</td>\n",
       "      <td>1</td>\n",
       "    </tr>\n",
       "  </tbody>\n",
       "</table>\n",
       "<p>9500 rows × 5 columns</p>\n",
       "</div>"
      ],
      "text/plain": [
       "      id_cliente  idade limite_adicional predict_train  validation\n",
       "0           1767     21            Negar         Negar           1\n",
       "1          11920     40            Negar         Negar           1\n",
       "2           8910     36            Negar         Negar           1\n",
       "3           4964     58            Negar         Negar           1\n",
       "4          10100     35            Negar         Negar           1\n",
       "...          ...    ...              ...           ...         ...\n",
       "9495        5155     29            Negar         Negar           1\n",
       "9496       11977   1237            Negar         Negar           1\n",
       "9497        9278     47            Negar         Negar           1\n",
       "9498        2525     42            Negar         Negar           1\n",
       "9499        9636     35            Negar         Negar           1\n",
       "\n",
       "[9500 rows x 5 columns]"
      ]
     },
     "execution_count": 19,
     "metadata": {},
     "output_type": "execute_result"
    }
   ],
   "source": [
    "df_result.loc[ :, ['id_cliente', 'idade', 'limite_adicional', 'predict_train', 'validation']]"
   ]
  },
  {
   "attachments": {},
   "cell_type": "markdown",
   "metadata": {},
   "source": [
    "Calculate the accuracy on the basic way"
   ]
  },
  {
   "cell_type": "code",
   "execution_count": 20,
   "metadata": {},
   "outputs": [
    {
     "data": {
      "text/plain": [
       "8161"
      ]
     },
     "execution_count": 20,
     "metadata": {},
     "output_type": "execute_result"
    }
   ],
   "source": [
    "df_result['validation'].sum()"
   ]
  },
  {
   "cell_type": "code",
   "execution_count": 21,
   "metadata": {},
   "outputs": [
    {
     "data": {
      "text/plain": [
       "(9500, 19)"
      ]
     },
     "execution_count": 21,
     "metadata": {},
     "output_type": "execute_result"
    }
   ],
   "source": [
    "df_result.shape"
   ]
  },
  {
   "cell_type": "code",
   "execution_count": 26,
   "metadata": {},
   "outputs": [
    {
     "name": "stdout",
     "output_type": "stream",
     "text": [
      "Accuracy: 85.91%\n"
     ]
    }
   ],
   "source": [
    "print('Accuracy: {:.2f}%'.format(( 8161/9500)*100))"
   ]
  },
  {
   "attachments": {},
   "cell_type": "markdown",
   "metadata": {},
   "source": [
    "Using the accuracy function"
   ]
  },
  {
   "cell_type": "code",
   "execution_count": 31,
   "metadata": {},
   "outputs": [
    {
     "name": "stdout",
     "output_type": "stream",
     "text": [
      "Accuracy: 85.91%\n"
     ]
    }
   ],
   "source": [
    "acc = mt.accuracy_score(y_train, y_pred)\n",
    "print('Accuracy: {:.2f}%'.format(acc * 100))"
   ]
  },
  {
   "attachments": {},
   "cell_type": "markdown",
   "metadata": {},
   "source": [
    "Confusion matrix"
   ]
  },
  {
   "cell_type": "code",
   "execution_count": 28,
   "metadata": {},
   "outputs": [
    {
     "data": {
      "text/plain": [
       "array([[ 369, 1136],\n",
       "       [ 203, 7792]], dtype=int64)"
      ]
     },
     "execution_count": 28,
     "metadata": {},
     "output_type": "execute_result"
    }
   ],
   "source": [
    "mt.confusion_matrix(y_train, y_pred)"
   ]
  },
  {
   "cell_type": "code",
   "execution_count": null,
   "metadata": {},
   "outputs": [],
   "source": []
  }
 ],
 "metadata": {
  "kernelspec": {
   "display_name": "Python 3",
   "language": "python",
   "name": "python3"
  },
  "language_info": {
   "codemirror_mode": {
    "name": "ipython",
    "version": 3
   },
   "file_extension": ".py",
   "mimetype": "text/x-python",
   "name": "python",
   "nbconvert_exporter": "python",
   "pygments_lexer": "ipython3",
   "version": "3.10.4"
  },
  "orig_nbformat": 4,
  "vscode": {
   "interpreter": {
    "hash": "b48ab8baa29243ab304f035f63a357f66f79502c7f334a63d96cbb35ab2463e8"
   }
  }
 },
 "nbformat": 4,
 "nbformat_minor": 2
}
